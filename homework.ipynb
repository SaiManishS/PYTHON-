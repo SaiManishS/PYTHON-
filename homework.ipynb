{
 "cells": [
  {
   "cell_type": "code",
   "execution_count": 1,
   "metadata": {},
   "outputs": [
    {
     "name": "stdout",
     "output_type": "stream",
     "text": [
      "Please enter data in 00\\00\\0000 fromat\n",
      "02/10/2019\n",
      "02nd October,2019\n"
     ]
    }
   ],
   "source": [
    "date = input('Please enter data in 00\\\\00\\\\0000 fromat\\n')\n",
    "month  = date[3:5]\n",
    "day = date[0:2]\n",
    "year = date[-4:]\n",
    "months = ['January', 'February', 'March', 'April', 'May', 'June', 'July', 'August', 'September','October', 'November', 'December']\n",
    "endings = ['st','nd','rd'] + 17 * ['th'] + ['st','nd','rd'] + 8*['th']\n",
    "print(day+endings[int(day)-1]+' '+months[int(month)-1]+','+year)"
   ]
  },
  {
   "cell_type": "code",
   "execution_count": null,
   "metadata": {},
   "outputs": [],
   "source": []
  }
 ],
 "metadata": {
  "kernelspec": {
   "display_name": "Python 3",
   "language": "python",
   "name": "python3"
  },
  "language_info": {
   "codemirror_mode": {
    "name": "ipython",
    "version": 3
   },
   "file_extension": ".py",
   "mimetype": "text/x-python",
   "name": "python",
   "nbconvert_exporter": "python",
   "pygments_lexer": "ipython3",
   "version": "3.7.4"
  }
 },
 "nbformat": 4,
 "nbformat_minor": 2
}
